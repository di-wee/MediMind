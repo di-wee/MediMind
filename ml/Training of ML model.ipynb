{
 "cells": [
  {
   "cell_type": "markdown",
   "id": "e2cc44b2",
   "metadata": {},
   "source": [
    "Training of ML model"
   ]
  },
  {
   "cell_type": "code",
   "execution_count": null,
   "id": "3cc54677",
   "metadata": {},
   "outputs": [
    {
     "name": "stdout",
     "output_type": "stream",
     "text": [
      "Primary Label Distribution: Counter({'B-MEDICATION_NAME': 384})\n"
     ]
    },
    {
     "name": "stderr",
     "output_type": "stream",
     "text": [
      "C:\\Users\\prisc\\AppData\\Roaming\\Python\\Python310\\site-packages\\huggingface_hub\\file_download.py:945: FutureWarning: `resume_download` is deprecated and will be removed in version 1.0.0. Downloads always resume when possible. If you want to force a new download, use `force_download=True`.\n",
      "  warnings.warn(\n",
      "Map: 100%|██████████| 307/307 [00:00<00:00, 1596.47 examples/s]\n",
      "Map: 100%|██████████| 77/77 [00:00<00:00, 1865.34 examples/s]\n",
      "Some weights of BertForTokenClassification were not initialized from the model checkpoint at bert-base-cased and are newly initialized: ['classifier.weight', 'classifier.bias']\n",
      "You should probably TRAIN this model on a down-stream task to be able to use it for predictions and inference.\n",
      "C:\\Users\\prisc\\AppData\\Roaming\\Python\\Python310\\site-packages\\torch\\utils\\data\\dataloader.py:666: UserWarning: 'pin_memory' argument is set as true but no accelerator is found, then device pinned memory won't be used.\n",
      "  warnings.warn(warn_msg)\n",
      "You're using a BertTokenizerFast tokenizer. Please note that with a fast tokenizer, using the `__call__` method is faster than using a method to encode the text followed by a call to the `pad` method to get a padded encoding.\n",
      "\n",
      "  1%|          | 17/1950 [29:26<11:49:39, 22.03s/it]"
     ]
    },
    {
     "name": "stdout",
     "output_type": "stream",
     "text": [
      "{'loss': 0.8283, 'learning_rate': 4.9e-05, 'epoch': 1.0}\n"
     ]
    },
    {
     "name": "stderr",
     "output_type": "stream",
     "text": [
      "\n",
      "\u001b[A\n",
      "\u001b[A\n",
      "\u001b[A\n",
      "\u001b[A\n",
      "\u001b[A\n",
      "\u001b[A\n",
      "\u001b[A\n",
      "\u001b[A\n",
      "\u001b[A\n",
      "\u001b[A\n",
      "                                                    \n",
      "\n",
      "  1%|          | 17/1950 [29:57<11:49:39, 22.03s/it]\n",
      "\u001b[A\n",
      "\u001b[A"
     ]
    },
    {
     "name": "stdout",
     "output_type": "stream",
     "text": [
      "{'eval_loss': 0.3274862468242645, 'eval_accuracy': 0.9007009345794392, 'eval_precision': 0.8239895697522817, 'eval_recall': 0.8645690834473324, 'eval_f1': 0.8437917222963953, 'eval_runtime': 30.3569, 'eval_samples_per_second': 2.536, 'eval_steps_per_second': 0.329, 'epoch': 1.0}\n"
     ]
    },
    {
     "name": "stderr",
     "output_type": "stream",
     "text": [
      "C:\\Users\\prisc\\AppData\\Roaming\\Python\\Python310\\site-packages\\torch\\utils\\data\\dataloader.py:666: UserWarning: 'pin_memory' argument is set as true but no accelerator is found, then device pinned memory won't be used.\n",
      "  warnings.warn(warn_msg)\n",
      "\n",
      "  1%|          | 17/1950 [41:06<11:49:39, 22.03s/it]"
     ]
    },
    {
     "name": "stdout",
     "output_type": "stream",
     "text": [
      "{'loss': 0.2215, 'learning_rate': 4.8e-05, 'epoch': 2.0}\n"
     ]
    },
    {
     "name": "stderr",
     "output_type": "stream",
     "text": [
      "\n",
      "\u001b[A\n",
      "\u001b[A\n",
      "\u001b[A\n",
      "\u001b[A\n",
      "\u001b[A\n",
      "\u001b[A\n",
      "\u001b[A\n",
      "\u001b[A\n",
      "\u001b[A\n",
      "\u001b[A\n",
      "                                                    \n",
      "\n",
      "  1%|          | 17/1950 [41:45<11:49:39, 22.03s/it]\n",
      "\u001b[A\n",
      "\u001b[A"
     ]
    },
    {
     "name": "stdout",
     "output_type": "stream",
     "text": [
      "{'eval_loss': 0.232967346906662, 'eval_accuracy': 0.9396417445482866, 'eval_precision': 0.9052069425901201, 'eval_recall': 0.9274965800273598, 'eval_f1': 0.9162162162162162, 'eval_runtime': 38.6032, 'eval_samples_per_second': 1.995, 'eval_steps_per_second': 0.259, 'epoch': 2.0}\n"
     ]
    },
    {
     "name": "stderr",
     "output_type": "stream",
     "text": [
      "C:\\Users\\prisc\\AppData\\Roaming\\Python\\Python310\\site-packages\\torch\\utils\\data\\dataloader.py:666: UserWarning: 'pin_memory' argument is set as true but no accelerator is found, then device pinned memory won't be used.\n",
      "  warnings.warn(warn_msg)\n",
      "\n",
      "  1%|          | 17/1950 [50:58<11:49:39, 22.03s/it]"
     ]
    },
    {
     "name": "stdout",
     "output_type": "stream",
     "text": [
      "{'loss': 0.1398, 'learning_rate': 4.7e-05, 'epoch': 3.0}\n"
     ]
    },
    {
     "name": "stderr",
     "output_type": "stream",
     "text": [
      "\n",
      "\u001b[A\n",
      "\u001b[A\n",
      "\u001b[A\n",
      "\u001b[A\n",
      "\u001b[A\n",
      "\u001b[A\n",
      "\u001b[A\n",
      "\u001b[A\n",
      "\u001b[A\n",
      "\u001b[A\n",
      "                                                    \n",
      "\n",
      "  1%|          | 17/1950 [51:43<11:49:39, 22.03s/it]\n",
      "\u001b[A\n",
      "\u001b[A"
     ]
    },
    {
     "name": "stdout",
     "output_type": "stream",
     "text": [
      "{'eval_loss': 0.22063733637332916, 'eval_accuracy': 0.9431464174454829, 'eval_precision': 0.9099590723055935, 'eval_recall': 0.9124487004103967, 'eval_f1': 0.9112021857923498, 'eval_runtime': 45.3202, 'eval_samples_per_second': 1.699, 'eval_steps_per_second': 0.221, 'epoch': 3.0}\n"
     ]
    },
    {
     "name": "stderr",
     "output_type": "stream",
     "text": [
      "C:\\Users\\prisc\\AppData\\Roaming\\Python\\Python310\\site-packages\\torch\\utils\\data\\dataloader.py:666: UserWarning: 'pin_memory' argument is set as true but no accelerator is found, then device pinned memory won't be used.\n",
      "  warnings.warn(warn_msg)\n",
      "\n",
      "  1%|          | 17/1950 [1:00:14<11:49:39, 22.03s/it]"
     ]
    },
    {
     "name": "stdout",
     "output_type": "stream",
     "text": [
      "{'loss': 0.1059, 'learning_rate': 4.600000000000001e-05, 'epoch': 4.0}\n"
     ]
    },
    {
     "name": "stderr",
     "output_type": "stream",
     "text": [
      "\n",
      "\u001b[A\n",
      "\u001b[A\n",
      "\u001b[A\n",
      "\u001b[A\n",
      "\u001b[A\n",
      "\u001b[A\n",
      "\u001b[A\n",
      "\u001b[A\n",
      "\u001b[A\n",
      "\u001b[A\n",
      "                                                      \n",
      "\n",
      "  1%|          | 17/1950 [1:00:47<11:49:39, 22.03s/it]\n",
      "\u001b[A\n",
      "\u001b[A"
     ]
    },
    {
     "name": "stdout",
     "output_type": "stream",
     "text": [
      "{'eval_loss': 0.19330380856990814, 'eval_accuracy': 0.9493769470404985, 'eval_precision': 0.9156626506024096, 'eval_recall': 0.9357045143638851, 'eval_f1': 0.9255751014884981, 'eval_runtime': 32.6357, 'eval_samples_per_second': 2.359, 'eval_steps_per_second': 0.306, 'epoch': 4.0}\n"
     ]
    },
    {
     "name": "stderr",
     "output_type": "stream",
     "text": [
      "C:\\Users\\prisc\\AppData\\Roaming\\Python\\Python310\\site-packages\\torch\\utils\\data\\dataloader.py:666: UserWarning: 'pin_memory' argument is set as true but no accelerator is found, then device pinned memory won't be used.\n",
      "  warnings.warn(warn_msg)\n",
      "\n",
      "  1%|          | 17/1950 [1:10:42<11:49:39, 22.03s/it]"
     ]
    },
    {
     "name": "stdout",
     "output_type": "stream",
     "text": [
      "{'loss': 0.0859, 'learning_rate': 4.5e-05, 'epoch': 5.0}\n"
     ]
    },
    {
     "name": "stderr",
     "output_type": "stream",
     "text": [
      "\n",
      "\u001b[A\n",
      "\u001b[A\n",
      "\u001b[A\n",
      "\u001b[A\n",
      "\u001b[A\n",
      "\u001b[A\n",
      "\u001b[A\n",
      "\u001b[A\n",
      "\u001b[A\n",
      "\u001b[A\n",
      "                                                      \n",
      "\n",
      "  1%|          | 17/1950 [1:11:18<11:49:39, 22.03s/it]\n",
      "\u001b[A\n",
      "\u001b[A"
     ]
    },
    {
     "name": "stdout",
     "output_type": "stream",
     "text": [
      "{'eval_loss': 0.20973142981529236, 'eval_accuracy': 0.94898753894081, 'eval_precision': 0.9210174029451138, 'eval_recall': 0.9411764705882353, 'eval_f1': 0.9309878213802436, 'eval_runtime': 35.5601, 'eval_samples_per_second': 2.165, 'eval_steps_per_second': 0.281, 'epoch': 5.0}\n"
     ]
    },
    {
     "name": "stderr",
     "output_type": "stream",
     "text": [
      "C:\\Users\\prisc\\AppData\\Roaming\\Python\\Python310\\site-packages\\torch\\utils\\data\\dataloader.py:666: UserWarning: 'pin_memory' argument is set as true but no accelerator is found, then device pinned memory won't be used.\n",
      "  warnings.warn(warn_msg)\n",
      "\n",
      "  1%|          | 17/1950 [1:19:05<11:49:39, 22.03s/it]"
     ]
    },
    {
     "name": "stdout",
     "output_type": "stream",
     "text": [
      "{'loss': 0.066, 'learning_rate': 4.4000000000000006e-05, 'epoch': 6.0}\n"
     ]
    },
    {
     "name": "stderr",
     "output_type": "stream",
     "text": [
      "\n",
      "\u001b[A\n",
      "\u001b[A\n",
      "\u001b[A\n",
      "\u001b[A\n",
      "\u001b[A\n",
      "\u001b[A\n",
      "\u001b[A\n",
      "\u001b[A\n",
      "\u001b[A\n",
      "\u001b[A\n",
      "                                                      \n",
      "\n",
      "  1%|          | 17/1950 [1:19:39<11:49:39, 22.03s/it]\n",
      "\u001b[A\n",
      "\u001b[A"
     ]
    },
    {
     "name": "stdout",
     "output_type": "stream",
     "text": [
      "{'eval_loss': 0.2176709622144699, 'eval_accuracy': 0.9485981308411215, 'eval_precision': 0.9058355437665783, 'eval_recall': 0.9343365253077975, 'eval_f1': 0.9198653198653198, 'eval_runtime': 34.7183, 'eval_samples_per_second': 2.218, 'eval_steps_per_second': 0.288, 'epoch': 6.0}\n"
     ]
    },
    {
     "name": "stderr",
     "output_type": "stream",
     "text": [
      "C:\\Users\\prisc\\AppData\\Roaming\\Python\\Python310\\site-packages\\torch\\utils\\data\\dataloader.py:666: UserWarning: 'pin_memory' argument is set as true but no accelerator is found, then device pinned memory won't be used.\n",
      "  warnings.warn(warn_msg)\n",
      "\n",
      "  1%|          | 17/1950 [1:30:14<11:49:39, 22.03s/it]"
     ]
    },
    {
     "name": "stdout",
     "output_type": "stream",
     "text": [
      "{'loss': 0.0517, 'learning_rate': 4.3e-05, 'epoch': 7.0}\n"
     ]
    },
    {
     "name": "stderr",
     "output_type": "stream",
     "text": [
      "\n",
      "\u001b[A\n",
      "\u001b[A\n",
      "\u001b[A\n",
      "\u001b[A\n",
      "\u001b[A\n",
      "\u001b[A\n",
      "\u001b[A\n",
      "\u001b[A\n",
      "\u001b[A\n",
      "\u001b[A\n",
      "                                                      \n",
      "\n",
      "  1%|          | 17/1950 [1:30:55<11:49:39, 22.03s/it]\n",
      "\u001b[A\n",
      "\u001b[A"
     ]
    },
    {
     "name": "stdout",
     "output_type": "stream",
     "text": [
      "{'eval_loss': 0.20778022706508636, 'eval_accuracy': 0.9606697819314641, 'eval_precision': 0.9444444444444444, 'eval_recall': 0.9534883720930233, 'eval_f1': 0.9489448604492852, 'eval_runtime': 40.9512, 'eval_samples_per_second': 1.88, 'eval_steps_per_second': 0.244, 'epoch': 7.0}\n"
     ]
    },
    {
     "name": "stderr",
     "output_type": "stream",
     "text": [
      "\n",
      " 14%|█▍        | 273/1950 [1:11:12<7:17:26, 15.65s/it]\n"
     ]
    },
    {
     "name": "stdout",
     "output_type": "stream",
     "text": [
      "{'train_runtime': 4272.69, 'train_samples_per_second': 3.593, 'train_steps_per_second': 0.456, 'train_loss': 0.21415970962999503, 'epoch': 7.0}\n"
     ]
    },
    {
     "name": "stderr",
     "output_type": "stream",
     "text": [
      "C:\\Users\\prisc\\AppData\\Roaming\\Python\\Python310\\site-packages\\torch\\utils\\data\\dataloader.py:666: UserWarning: 'pin_memory' argument is set as true but no accelerator is found, then device pinned memory won't be used.\n",
      "  warnings.warn(warn_msg)\n",
      "100%|██████████| 10/10 [00:32<00:00,  3.29s/it]\n"
     ]
    },
    {
     "name": "stdout",
     "output_type": "stream",
     "text": [
      "\n",
      "Evaluation Metrics:\n",
      "eval_loss: 0.1933\n",
      "eval_accuracy: 0.9494\n",
      "eval_precision: 0.9157\n",
      "eval_recall: 0.9357\n",
      "eval_f1: 0.9256\n",
      "eval_runtime: 36.6699\n",
      "eval_samples_per_second: 2.1000\n",
      "eval_steps_per_second: 0.2730\n",
      "epoch: 7.0000\n",
      "\n",
      "Inference Output:\n",
      "2 tablets → DOSAGE\n",
      "3 times → FREQUENCY\n",
      "after food → INSTRUCTION\n"
     ]
    },
    {
     "data": {
      "image/png": "[encoded data removed]",
      "text/plain": [
       "<Figure size 1000x1600 with 4 Axes>"
      ]
     },
     "metadata": {},
     "output_type": "display_data"
    }
   ],
   "source": [
    "import json\n",
    "import pandas as pd\n",
    "import matplotlib.pyplot as plt\n",
    "from collections import Counter\n",
    "from datasets import Dataset, DatasetDict\n",
    "from transformers import BertTokenizerFast, BertForTokenClassification\n",
    "from transformers import TrainingArguments, Trainer, pipeline, EarlyStoppingCallback\n",
    "from seqeval.metrics import classification_report, accuracy_score, precision_score, recall_score, f1_score\n",
    "from sklearn.model_selection import train_test_split\n",
    "\n",
    "# Load Data\n",
    "with open(\"labels_for_bert_training.json\", \"r\") as f:\n",
    "    data = json.load(f)\n",
    "\n",
    "# Stratified Split Dataset\n",
    "def get_primary_label(sample):\n",
    "    for label in sample[\"labels\"]:\n",
    "        if label != \"O\":\n",
    "            return label\n",
    "    return \"O\"\n",
    "\n",
    "labels_for_split = [get_primary_label(sample) for sample in data]\n",
    "label_distribution = Counter(labels_for_split)\n",
    "print(\"Primary Label Distribution:\", label_distribution)\n",
    "\n",
    "train_data, test_data = train_test_split(data, test_size=0.2, stratify=labels_for_split, random_state=42)\n",
    "dataset = DatasetDict({\n",
    "    \"train\": Dataset.from_list(train_data),\n",
    "    \"test\": Dataset.from_list(test_data)\n",
    "})\n",
    "\n",
    "# Label Mapping\n",
    "label_list = [\n",
    "    \"B-DOSAGE\", \"I-DOSAGE\",\n",
    "    \"B-FREQUENCY\", \"I-FREQUENCY\",\n",
    "    \"B-INSTRUCTION\", \"I-INSTRUCTION\",\n",
    "    \"B-MEDICATION_NAME\", \"I-MEDICATION_NAME\",\n",
    "    \"B-NOTE\", \"I-NOTE\",\n",
    "    \"O\"\n",
    "]\n",
    "label_to_id = {label: i for i, label in enumerate(label_list)}\n",
    "id_to_label = {i: label for label, i in label_to_id.items()}\n",
    "num_labels = len(label_list)\n",
    "\n",
    "# Tokenization and Alignment\n",
    "tokenizer = BertTokenizerFast.from_pretrained(\"bert-base-cased\")\n",
    "\n",
    "def tokenize_and_align_labels(example):\n",
    "    tokenized_inputs = tokenizer(example[\"tokens\"], is_split_into_words=True, padding='max_length', truncation=True)\n",
    "    word_ids = tokenized_inputs.word_ids()\n",
    "    labels = [label_to_id[example[\"labels\"][idx]] if idx is not None else -100 for idx in word_ids]\n",
    "    tokenized_inputs[\"labels\"] = labels\n",
    "    return tokenized_inputs\n",
    "\n",
    "tokenized_datasets = dataset.map(tokenize_and_align_labels)\n",
    "\n",
    "# Load Model\n",
    "model = BertForTokenClassification.from_pretrained(\n",
    "    \"bert-base-cased\",\n",
    "    num_labels=num_labels,\n",
    "    id2label=id_to_label,\n",
    "    label2id=label_to_id\n",
    ")\n",
    "\n",
    "# Metrics\n",
    "def compute_metrics(p):\n",
    "    predictions, labels = p\n",
    "    predictions = predictions.argmax(axis=-1)\n",
    "    true_labels, true_predictions = [], []\n",
    "    for pred, label in zip(predictions, labels):\n",
    "        filtered_preds, filtered_labels = [], []\n",
    "        for p_i, l_i in zip(pred, label):\n",
    "            if l_i != -100:\n",
    "                filtered_preds.append(id_to_label[p_i])\n",
    "                filtered_labels.append(id_to_label[l_i])\n",
    "        true_predictions.append(filtered_preds)\n",
    "        true_labels.append(filtered_labels)\n",
    "    return {\n",
    "        \"accuracy\": accuracy_score(true_labels, true_predictions),\n",
    "        \"precision\": precision_score(true_labels, true_predictions),\n",
    "        \"recall\": recall_score(true_labels, true_predictions),\n",
    "        \"f1\": f1_score(true_labels, true_predictions)\n",
    "    }\n",
    "\n",
    "# Training Setup\n",
    "training_args = TrainingArguments(\n",
    "    output_dir=\"./ner_model5\",\n",
    "    save_safetensors=False,\n",
    "    per_device_train_batch_size=8,\n",
    "    per_device_eval_batch_size=8,\n",
    "    num_train_epochs=50,\n",
    "    evaluation_strategy=\"epoch\",\n",
    "    save_strategy=\"epoch\",\n",
    "    logging_dir=\"./logs\",\n",
    "    logging_strategy=\"epoch\",\n",
    "    load_best_model_at_end=True,\n",
    "    metric_for_best_model=\"eval_loss\",\n",
    "    greater_is_better=False\n",
    ")\n",
    "\n",
    "trainer = Trainer(\n",
    "    model=model,\n",
    "    args=training_args,\n",
    "    train_dataset=tokenized_datasets[\"train\"],\n",
    "    eval_dataset=tokenized_datasets[\"test\"],\n",
    "    tokenizer=tokenizer,\n",
    "    compute_metrics=compute_metrics,\n",
    "    callbacks=[EarlyStoppingCallback(early_stopping_patience=3)]\n",
    ")\n",
    "\n",
    "# Train Model\n",
    "trainer.train()\n",
    "\n",
    "# Save Model\n",
    "model_path = \"./ner_model\"\n",
    "trainer.save_model(model_path)\n",
    "tokenizer.save_pretrained(model_path)\n",
    "\n",
    "# Evaluate \n",
    "eval_results = trainer.evaluate()\n",
    "print(\"\\nEvaluation Metrics:\")\n",
    "for k, v in eval_results.items():\n",
    "    print(f\"{k}: {v:.4f}\")\n",
    "\n",
    "# Inference Example\n",
    "ner_pipe = pipeline(\"ner\", model=model_path, tokenizer=model_path, aggregation_strategy=\"simple\")\n",
    "text = \"Take 2 tablets 3 times a day after food\"\n",
    "results = ner_pipe(text)\n",
    "print(\"\\nInference Output:\")\n",
    "for entity in results:\n",
    "    print(f\"{entity['word']} → {entity['entity_group']}\")\n",
    "\n",
    "# Training History Plot\n",
    "df_logs = pd.DataFrame(trainer.state.log_history)\n",
    "if \"epoch\" in df_logs.columns:\n",
    "    fig, axs = plt.subplots(4, 1, figsize=(10, 16), sharex=True)\n",
    "\n",
    "    if \"loss\" in df_logs.columns:\n",
    "        axs[0].plot(df_logs[\"epoch\"], df_logs[\"loss\"], label=\"Training Loss\", marker='o', color='blue')\n",
    "        axs[0].set_title(\"Training Loss over Epochs\")\n",
    "        axs[0].set_ylabel(\"Loss\")\n",
    "        axs[0].legend()\n",
    "        axs[0].grid(True)\n",
    "\n",
    "    if \"eval_loss\" in df_logs.columns:\n",
    "        axs[1].plot(df_logs[\"epoch\"], df_logs[\"eval_loss\"], label=\"Eval Loss\", marker='x', color='orange')\n",
    "        axs[1].set_title(\"Eval Loss over Epochs\")\n",
    "        axs[1].set_ylabel(\"Loss\")\n",
    "        axs[1].legend()\n",
    "        axs[1].grid(True)\n",
    "\n",
    "    metrics = [\"eval_f1\", \"eval_precision\", \"eval_recall\", \"eval_accuracy\"]\n",
    "    colors = [\"green\", \"purple\", \"brown\", \"red\"]\n",
    "    for i, metric in enumerate(metrics):\n",
    "        if metric in df_logs.columns:\n",
    "            axs[2].plot(df_logs[\"epoch\"], df_logs[metric], label=metric.replace(\"eval_\", \"\").capitalize(),\n",
    "                        marker='s', color=colors[i])\n",
    "\n",
    "    axs[2].set_title(\"Evaluation Metrics over Epochs\")\n",
    "    axs[2].set_ylabel(\"Score\")\n",
    "    axs[2].legend()\n",
    "    axs[2].grid(True)\n",
    "\n",
    "    if all(m in df_logs.columns for m in [\"eval_f1\", \"eval_precision\", \"eval_recall\"]):\n",
    "        axs[3].plot(df_logs[\"epoch\"], df_logs[\"eval_f1\"], label=\"F1\", marker='o', color='green')\n",
    "        axs[3].plot(df_logs[\"epoch\"], df_logs[\"eval_precision\"], label=\"Precision\", marker='^', color='purple')\n",
    "        axs[3].plot(df_logs[\"epoch\"], df_logs[\"eval_recall\"], label=\"Recall\", marker='v', color='brown')\n",
    "        axs[3].set_title(\"F1 vs Precision vs Recall\")\n",
    "        axs[3].set_xlabel(\"Epoch\")\n",
    "        axs[3].set_ylabel(\"Score\")\n",
    "        axs[3].legend()\n",
    "        axs[3].grid(True)\n",
    "\n",
    "    plt.tight_layout()\n",
    "    plt.show()\n",
    "else:\n",
    "    print(\"No 'epoch' column found in logs to plot.\")\n"
   ]
  }
 ],
 "metadata": {
  "kernelspec": {
   "display_name": "labelstudio",
   "language": "python",
   "name": "python3"
  },
  "language_info": {
   "codemirror_mode": {
    "name": "ipython",
    "version": 3
   },
   "file_extension": ".py",
   "mimetype": "text/x-python",
   "name": "python",
   "nbconvert_exporter": "python",
   "pygments_lexer": "ipython3",
   "version": "3.10.18"
  }
 },
 "nbformat": 4,
 "nbformat_minor": 5
}
